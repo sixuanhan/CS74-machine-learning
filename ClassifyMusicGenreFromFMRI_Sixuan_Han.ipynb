{
  "cells": [
    {
      "cell_type": "markdown",
      "metadata": {
        "id": "25QjbIJtflqc"
      },
      "source": [
        "# Final Project\n",
        "# \"Classifying The Brain on Music\"\n",
        "\n",
        "Michael Casey, https://www.frontiersin.org/journals/psychology/articles/10.3389/fpsyg.2017.01179/full"
      ]
    },
    {
      "cell_type": "markdown",
      "metadata": {
        "id": "inBFwoQZJJZF"
      },
      "source": [
        "\n",
        "\n",
        "#### Your objective is to classify fMRI brain images taken while listening to music in five different genres: label 0=Ambient Music, 1=Country Music, 2=Heavy Metal, 3=Rock 'n Roll, 4=Classical Symphonic. The data consists of train_data.csv,  train_labels.csv, and test_data.csv, for a one-person subset of a larger 20-subject study, linked above.\n",
        "\n",
        "#### The training data (train_data.csv) consist of 160 event-related brain images (trials), corresponding to twenty 6-second music clips, four clips in each of the five genres, repeated in-order eight times (runs). The labels (train_labels.csv) correspond to the correct musical genres, listed above, for each of the 160 trials.\n",
        "\n",
        "#### There are 22036 features in each brain image, corresponding to blood-oxygenation levels at each 2mm-cubed 3D location within a section of the auditory cortex. In human brain imaging, there are often many more features (brain sites) than samples (trials), thus making the task a relatively challenging multiway classification problem.\n",
        "\n",
        "#### The testing data (test_data.csv) consists of 40 event-related brain images corresponding to novel 6-second music clips in the five genres. The test data is in randomized order with no labels. You must predict, using only the given brain images, the correct genre labels (0-4) for the 40 test trials."
      ]
    },
    {
      "cell_type": "markdown",
      "metadata": {
        "id": "eBkfTOxuWxUY"
      },
      "source": [
        "## **1. Multi-Class Genre Classifier** [[12 points]](https://)\n",
        "\n",
        "#### Build a multi-class classifier for the 5 music genres. Your goal is to train a model to classify brain images into corresponding genre categories. You are free to choose any machine learning models from the class.\n",
        "\n",
        "#### **1-1. Hyper-parameter Search.** [[4 points]](https://) Demonstrate your hyperparameter search process using cross-validation. Provide details for at least one hyperparameter with 10 different possible values.\n",
        "\n",
        "#### **1-2. Model Training and Testing.** [[4 points]](https://) Following the hyperparameter search, train your model with the best combination of hyperparameters. Run the model on the test set and submit the results to the Kaggle competition. To get full marks, your model should outperform the baseline model, which is provided in Kaggle. You **must** show your test accuracy computed by Kaggle in this report.   \n",
        "\n",
        "#### **1-3. Model Analysis.** [[4 points]](https://) Conduct a thorough analysis of your model, including:\n",
        "\n",
        "#### **1-3-1. Confusion Matrix:** Split the training set into train/validation sets. The data is organized into eight runs, in order, with each run repeating the same 20 music trials. You should split the data by run. Retrain your model using the best hyperparameter combination. Present the confusion matrix on the validation set.\n",
        "\n",
        "#### **1-3-2. Example Examination:** Examine four validation samples where your model fails to classify into the correct category. Display the true label and the predicted label. Looking at the confusion matrix, how might you explain your results from the perspectives of human brain data and music genre similarity?"
      ]
    },
    {
      "cell_type": "markdown",
      "metadata": {
        "id": "vA9cw0emNkjC"
      },
      "source": [
        "\n",
        "\n",
        "---\n",
        "\n",
        "## **A. Data Download**\n",
        "#### For your convenience, we have provided code to download the dataset, which includes true labels, training data (features), training labels, and testing data (features)."
      ]
    },
    {
      "cell_type": "markdown",
      "metadata": {
        "id": "iBfZLkUrZ9Xx"
      },
      "source": [
        "#### **A-1. Download Features and Labels.**\n",
        "#### Run the following code to download the brain features and labels of the music clips.\n"
      ]
    },
    {
      "cell_type": "code",
      "execution_count": 1,
      "metadata": {
        "colab": {
          "base_uri": "https://localhost:8080/"
        },
        "id": "tvMqDITgzRW2",
        "outputId": "b7e9e0e9-1195-468b-d666-309fe68cc6d7"
      },
      "outputs": [
        {
          "name": "stdout",
          "output_type": "stream",
          "text": [
            "Collecting gdown\n",
            "  Obtaining dependency information for gdown from https://files.pythonhosted.org/packages/cb/56/f4845ed78723a4eb8eb22bcfcb46e1157a462c78c0a5ed318c68c98f9a79/gdown-5.1.0-py3-none-any.whl.metadata\n",
            "  Using cached gdown-5.1.0-py3-none-any.whl.metadata (5.7 kB)\n",
            "Requirement already satisfied: beautifulsoup4 in /Users/xuanxuan/anaconda3/lib/python3.11/site-packages (from gdown) (4.12.2)\n",
            "Requirement already satisfied: filelock in /Users/xuanxuan/anaconda3/lib/python3.11/site-packages (from gdown) (3.9.0)\n",
            "Requirement already satisfied: requests[socks] in /Users/xuanxuan/anaconda3/lib/python3.11/site-packages (from gdown) (2.31.0)\n",
            "Requirement already satisfied: tqdm in /Users/xuanxuan/anaconda3/lib/python3.11/site-packages (from gdown) (4.65.0)\n",
            "Requirement already satisfied: soupsieve>1.2 in /Users/xuanxuan/anaconda3/lib/python3.11/site-packages (from beautifulsoup4->gdown) (2.4)\n",
            "Requirement already satisfied: charset-normalizer<4,>=2 in /Users/xuanxuan/anaconda3/lib/python3.11/site-packages (from requests[socks]->gdown) (2.0.4)\n",
            "Requirement already satisfied: idna<4,>=2.5 in /Users/xuanxuan/anaconda3/lib/python3.11/site-packages (from requests[socks]->gdown) (3.4)\n",
            "Requirement already satisfied: urllib3<3,>=1.21.1 in /Users/xuanxuan/anaconda3/lib/python3.11/site-packages (from requests[socks]->gdown) (1.26.16)\n",
            "Requirement already satisfied: certifi>=2017.4.17 in /Users/xuanxuan/anaconda3/lib/python3.11/site-packages (from requests[socks]->gdown) (2023.7.22)\n",
            "Requirement already satisfied: PySocks!=1.5.7,>=1.5.6 in /Users/xuanxuan/anaconda3/lib/python3.11/site-packages (from requests[socks]->gdown) (1.7.1)\n",
            "Using cached gdown-5.1.0-py3-none-any.whl (17 kB)\n",
            "Installing collected packages: gdown\n",
            "Successfully installed gdown-5.1.0\n"
          ]
        }
      ],
      "source": [
        "import numpy as np\n",
        "!pip install gdown"
      ]
    },
    {
      "cell_type": "code",
      "execution_count": 2,
      "metadata": {
        "colab": {
          "base_uri": "https://localhost:8080/"
        },
        "id": "OjIWRNJzodXk",
        "outputId": "fe4cd383-35bf-488e-a2e1-94a255dc0528"
      },
      "outputs": [
        {
          "name": "stdout",
          "output_type": "stream",
          "text": [
            "/opt/homebrew/lib/python3.11/site-packages/gdown/__main__.py:132: FutureWarning: Option `--id` was deprecated in version 4.3.1 and will be removed in 5.0. You don't need to pass it anymore to use a file ID.\n",
            "  warnings.warn(\n",
            "Downloading...\n",
            "From: https://drive.google.com/uc?id=1aFDPryEDcT5wg0k8NhWYpF8lulGmot5J\n",
            "To: /Users/xuanxuan/Desktop/assignment/W24/cs74/final project/train_data.csv\n",
            "100%|██████████████████████████████████████| 89.7M/89.7M [00:07<00:00, 12.0MB/s]\n",
            "/opt/homebrew/lib/python3.11/site-packages/gdown/__main__.py:132: FutureWarning: Option `--id` was deprecated in version 4.3.1 and will be removed in 5.0. You don't need to pass it anymore to use a file ID.\n",
            "  warnings.warn(\n",
            "Downloading...\n",
            "From: https://drive.google.com/uc?id=11kgAdB_hkEcC4npCEWJcAOOmGe3495yY\n",
            "To: /Users/xuanxuan/Desktop/assignment/W24/cs74/final project/train_labels.csv\n",
            "100%|███████████████████████████████████████████| 320/320 [00:00<00:00, 762kB/s]\n",
            "/opt/homebrew/lib/python3.11/site-packages/gdown/__main__.py:132: FutureWarning: Option `--id` was deprecated in version 4.3.1 and will be removed in 5.0. You don't need to pass it anymore to use a file ID.\n",
            "  warnings.warn(\n",
            "Downloading...\n",
            "From: https://drive.google.com/uc?id=1wXq56F6RIUtDzPceZegZAMA-JGW21Gqu\n",
            "To: /Users/xuanxuan/Desktop/assignment/W24/cs74/final project/test_data.csv\n",
            "100%|██████████████████████████████████████| 22.5M/22.5M [00:01<00:00, 11.8MB/s]\n"
          ]
        }
      ],
      "source": [
        "!gdown --id 1aFDPryEDcT5wg0k8NhWYpF8lulGmot5J # train data\n",
        "!gdown --id 11kgAdB_hkEcC4npCEWJcAOOmGe3495yY # train labels\n",
        "!gdown --id 1wXq56F6RIUtDzPceZegZAMA-JGW21Gqu # test data"
      ]
    },
    {
      "cell_type": "code",
      "execution_count": 3,
      "metadata": {
        "colab": {
          "base_uri": "https://localhost:8080/"
        },
        "id": "FA1IkzqxNFw7",
        "outputId": "619e5177-db39-4255-d7fa-102ddb34ec97",
        "scrolled": false
      },
      "outputs": [
        {
          "name": "stdout",
          "output_type": "stream",
          "text": [
            "train_data.shape: (160, 22036)\n",
            "train_labels.shape: (160, 1)\n",
            "test_data.shape: (40, 22036)\n"
          ]
        }
      ],
      "source": [
        "# Data Import Method 1, with pandas\n",
        "import pandas as pd\n",
        "train_data = pd.read_csv(\"train_data.csv\", header=None)\n",
        "train_labels = pd.read_csv(\"train_labels.csv\", header=None)\n",
        "test_data = pd.read_csv(\"test_data.csv\", header=None)\n",
        "\n",
        "print('train_data.shape: {}'.format(train_data.shape))\n",
        "print('train_labels.shape: {}'.format(train_labels.shape))\n",
        "print('test_data.shape: {}'.format(test_data.shape))"
      ]
    },
    {
      "cell_type": "code",
      "execution_count": null,
      "metadata": {
        "colab": {
          "base_uri": "https://localhost:8080/"
        },
        "id": "engbcpH_NFw7",
        "outputId": "548c0501-657b-4c0d-ce2c-4b95e989b98c"
      },
      "outputs": [
        {
          "name": "stdout",
          "output_type": "stream",
          "text": [
            "Shape of train_data: (160, 22036)\n",
            "Shape of train_labels: 160\n",
            "Shape of test_data: (40, 22036)\n"
          ]
        }
      ],
      "source": [
        "# Data Import Method 2 (alternative, no pandas): Read the data into memory using python's built-in CSV parser\n",
        "\n",
        "import csv\n",
        "\n",
        "with open('train_data.csv', 'r') as csvfile:\n",
        "  train_data = np.array([row for row in csv.reader(csvfile, delimiter=',', quoting=csv.QUOTE_NONNUMERIC)])\n",
        "with open('train_labels.csv', 'r') as csvfile:\n",
        "  train_labels = np.array( [row for row in csv.reader(csvfile, delimiter=',', quoting=csv.QUOTE_NONNUMERIC)] )\n",
        "with open('test_data.csv', 'r') as csvfile:\n",
        "  test_data = np.array( [row for row in csv.reader(csvfile, delimiter=',', quoting=csv.QUOTE_NONNUMERIC)] )\n",
        "\n",
        "print('Shape of train_data: {0}'.format(train_data.shape))\n",
        "print('Shape of train_labels: {0}'.format(len(train_labels)))\n",
        "print('Shape of test_data: {0}'.format(test_data.shape))"
      ]
    },
    {
      "cell_type": "code",
      "execution_count": 11,
      "metadata": {
        "id": "YMhpDHs8scYx"
      },
      "outputs": [],
      "source": [
        "# Split the data into training and validation sets\n",
        "from sklearn.model_selection import train_test_split\n",
        "\n",
        "# X_train, X_test, y_train, y_test = train_test_split(train_data, train_labels, test_size=0.2)\n",
        "\n",
        "\n",
        "# Divide the data into 8 equal pieces\n",
        "pieces = 8\n",
        "pieces_indices = np.array_split(np.arange(len(train_data)), pieces)\n",
        "\n",
        "# Randomly select 2 pieces for the validation set\n",
        "validation_pieces_indices = np.random.choice(pieces, size=2, replace=False)\n",
        "\n",
        "# Concatenate the indices of the selected pieces to form the validation set\n",
        "validation_set_indices = np.concatenate([pieces_indices[i] for i in validation_pieces_indices])\n",
        "\n",
        "# The rest of the pieces will be the training set\n",
        "training_set_indices = np.setdiff1d(np.arange(len(train_data)), validation_set_indices)\n",
        "\n",
        "# Create training and validation sets\n",
        "X_train, y_train, X_test, y_test = train_data.iloc[training_set_indices], train_labels.iloc[training_set_indices], \\\n",
        "                                 train_data.iloc[validation_set_indices], train_labels.iloc[validation_set_indices]"
      ]
    },
    {
      "cell_type": "markdown",
      "metadata": {
        "id": "Tt_0KLLv5y3y"
      },
      "source": [
        "# CROSS VALIDATION\n",
        "tested pca__n_components with 10 possible values."
      ]
    },
    {
      "cell_type": "code",
      "execution_count": 31,
      "metadata": {
        "colab": {
          "base_uri": "https://localhost:8080/"
        },
        "id": "bh_G0lI2S-Oz",
        "outputId": "ae15842c-61b3-44b3-d009-b91534784e16"
      },
      "outputs": [
        {
          "name": "stderr",
          "output_type": "stream",
          "text": [
            "/opt/homebrew/lib/python3.11/site-packages/sklearn/model_selection/_validation.py:547: FitFailedWarning: \n",
            "15 fits failed out of a total of 165.\n",
            "The score on these train-test partitions for these parameters will be set to nan.\n",
            "If these failures are not expected, you can try to debug them by setting error_score='raise'.\n",
            "\n",
            "Below are more details about the failures:\n",
            "--------------------------------------------------------------------------------\n",
            "15 fits failed with the following error:\n",
            "Traceback (most recent call last):\n",
            "  File \"/opt/homebrew/lib/python3.11/site-packages/sklearn/model_selection/_validation.py\", line 895, in _fit_and_score\n",
            "    estimator.fit(X_train, y_train, **fit_params)\n",
            "  File \"/opt/homebrew/lib/python3.11/site-packages/sklearn/base.py\", line 1474, in wrapper\n",
            "    return fit_method(estimator, *args, **kwargs)\n",
            "           ^^^^^^^^^^^^^^^^^^^^^^^^^^^^^^^^^^^^^^\n",
            "  File \"/opt/homebrew/lib/python3.11/site-packages/sklearn/pipeline.py\", line 471, in fit\n",
            "    Xt = self._fit(X, y, routed_params)\n",
            "         ^^^^^^^^^^^^^^^^^^^^^^^^^^^^^^\n",
            "  File \"/opt/homebrew/lib/python3.11/site-packages/sklearn/pipeline.py\", line 408, in _fit\n",
            "    X, fitted_transformer = fit_transform_one_cached(\n",
            "                            ^^^^^^^^^^^^^^^^^^^^^^^^^\n",
            "  File \"/opt/homebrew/lib/python3.11/site-packages/joblib/memory.py\", line 353, in __call__\n",
            "    return self.func(*args, **kwargs)\n",
            "           ^^^^^^^^^^^^^^^^^^^^^^^^^^\n",
            "  File \"/opt/homebrew/lib/python3.11/site-packages/sklearn/pipeline.py\", line 1303, in _fit_transform_one\n",
            "    res = transformer.fit_transform(X, y, **params.get(\"fit_transform\", {}))\n",
            "          ^^^^^^^^^^^^^^^^^^^^^^^^^^^^^^^^^^^^^^^^^^^^^^^^^^^^^^^^^^^^^^^^^^\n",
            "  File \"/opt/homebrew/lib/python3.11/site-packages/sklearn/utils/_set_output.py\", line 295, in wrapped\n",
            "    data_to_wrap = f(self, X, *args, **kwargs)\n",
            "                   ^^^^^^^^^^^^^^^^^^^^^^^^^^^\n",
            "  File \"/opt/homebrew/lib/python3.11/site-packages/sklearn/base.py\", line 1474, in wrapper\n",
            "    return fit_method(estimator, *args, **kwargs)\n",
            "           ^^^^^^^^^^^^^^^^^^^^^^^^^^^^^^^^^^^^^^\n",
            "  File \"/opt/homebrew/lib/python3.11/site-packages/sklearn/decomposition/_pca.py\", line 454, in fit_transform\n",
            "    U, S, Vt = self._fit(X)\n",
            "               ^^^^^^^^^^^^\n",
            "  File \"/opt/homebrew/lib/python3.11/site-packages/sklearn/decomposition/_pca.py\", line 514, in _fit\n",
            "    return self._fit_full(X, n_components)\n",
            "           ^^^^^^^^^^^^^^^^^^^^^^^^^^^^^^^\n",
            "  File \"/opt/homebrew/lib/python3.11/site-packages/sklearn/decomposition/_pca.py\", line 530, in _fit_full\n",
            "    raise ValueError(\n",
            "ValueError: n_components=100 must be between 0 and min(n_samples, n_features)=96 with svd_solver='full'\n",
            "\n",
            "  warnings.warn(some_fits_failed_message, FitFailedWarning)\n",
            "/opt/homebrew/lib/python3.11/site-packages/sklearn/model_selection/_search.py:1051: UserWarning: One or more of the test scores are non-finite: [0.59166667 0.575      0.625      0.63333333 0.61666667 0.64166667\n",
            " 0.6        0.625      0.60833333 0.6        0.6        0.55833333\n",
            " 0.59166667 0.575      0.56666667 0.6        0.56666667 0.58333333\n",
            " 0.6        0.6        0.6        0.6        0.6        0.6\n",
            " 0.59166667 0.59166667 0.59166667 0.58333333 0.58333333 0.58333333\n",
            "        nan        nan        nan]\n",
            "  warnings.warn(\n"
          ]
        },
        {
          "name": "stdout",
          "output_type": "stream",
          "text": [
            "Best Hyperparameters: {'pca__n_components': 55, 'svm__C': 1, 'svm__kernel': 'linear'}\n",
            "Best SVM Model with PCA: Pipeline(steps=[('scaler', StandardScaler()), ('pca', PCA(n_components=55)),\n",
            "                ('svm', SVC(C=1, kernel='linear'))])\n",
            "Validation Accuracy with Best Model: 0.625\n"
          ]
        }
      ],
      "source": [
        "from sklearn.decomposition import PCA\n",
        "from sklearn.pipeline import Pipeline\n",
        "from sklearn.svm import SVC\n",
        "from sklearn.model_selection import GridSearchCV\n",
        "from sklearn.preprocessing import StandardScaler\n",
        "from sklearn.metrics import accuracy_score\n",
        "\n",
        "# Create a pipeline with a scaler, PCA, and an SVM classifier\n",
        "pipeline = Pipeline([\n",
        "    ('scaler', StandardScaler()),\n",
        "    ('pca', PCA()),\n",
        "    ('svm', SVC())\n",
        "])\n",
        "\n",
        "# Define the parameter grid to search\n",
        "param_grid = {\n",
        "    'pca__n_components': range(50, 105, 5),\n",
        "    'svm__C': [0.01, 0.1, 1],\n",
        "    'svm__kernel': ['linear'],\n",
        "}\n",
        "\n",
        "# Perform Grid Search with 5-fold cross-validation\n",
        "grid_search = GridSearchCV(pipeline, param_grid, cv=5, n_jobs=-1)\n",
        "grid_search.fit(X_train, y_train.values.ravel())\n",
        "\n",
        "# Get the best parameters and the best SVM model with PCA\n",
        "best_params = grid_search.best_params_\n",
        "best_svm_model = grid_search.best_estimator_\n",
        "\n",
        "# Evaluate the best model on the validation set\n",
        "y_pred = best_svm_model.predict(X_test)\n",
        "accuracy = accuracy_score(y_test, y_pred)\n",
        "\n",
        "print(f\"Best Hyperparameters: {best_params}\")\n",
        "print(f\"Best SVM Model with PCA: {best_svm_model}\")\n",
        "print(f\"Validation Accuracy with Best Model: {accuracy}\")\n"
      ]
    },
    {
      "cell_type": "markdown",
      "metadata": {
        "id": "FiUsIDgi52sh"
      },
      "source": [
        "# TRAINING AND VALIDATING A MODEL"
      ]
    },
    {
      "cell_type": "code",
      "execution_count": null,
      "metadata": {
        "colab": {
          "base_uri": "https://localhost:8080/"
        },
        "id": "2Cuikq0rVWpa",
        "outputId": "2826db94-825c-41d2-8eb3-564c35d520fb"
      },
      "outputs": [
        {
          "name": "stdout",
          "output_type": "stream",
          "text": [
            "Accuracy: 0.65\n"
          ]
        }
      ],
      "source": [
        "# Divide the data into 8 equal pieces\n",
        "pieces = 8\n",
        "pieces_indices = np.array_split(np.arange(len(train_data)), pieces)\n",
        "\n",
        "# Randomly select 2 pieces for the validation set\n",
        "validation_pieces_indices = np.random.choice(pieces, size=2, replace=False)\n",
        "\n",
        "# Concatenate the indices of the selected pieces to form the validation set\n",
        "validation_set_indices = np.concatenate([pieces_indices[i] for i in validation_pieces_indices])\n",
        "\n",
        "# The rest of the pieces will be the training set\n",
        "training_set_indices = np.setdiff1d(np.arange(len(train_data)), validation_set_indices)\n",
        "\n",
        "# Create training and validation sets\n",
        "X_train, y_train, X_test, y_test = train_data.iloc[training_set_indices], train_labels.iloc[training_set_indices], \\\n",
        "                                 train_data.iloc[validation_set_indices], train_labels.iloc[validation_set_indices]\n",
        "\n",
        "# Verify the shapes of the resulting sets\n",
        "print(\"X_train shape:\", X_train.shape)\n",
        "print(\"X_val shape:\", X_test.shape)\n",
        "print(\"y_train shape:\", y_train.shape)\n",
        "print(\"y_test shape:\", y_test.shape)\n",
        "\n",
        "\n",
        "# Create a pipeline with a scaler, PCA, and an SVM classifier\n",
        "pipeline = Pipeline([\n",
        "    ('scaler', StandardScaler()),\n",
        "    ('pca', PCA(n_components=50)),\n",
        "    ('svm', SVC(C=0.01, kernel='linear', decision_function_shape='ovo'))\n",
        "])\n",
        "\n",
        "# Fit the pipeline on the entire training data\n",
        "pipeline.fit(X_train, y_train.values.ravel())\n",
        "\n",
        "# Make predictions on the validation set\n",
        "y_pred = pipeline.predict(X_test)\n",
        "\n",
        "# Evaluate the performance\n",
        "accuracy = accuracy_score(y_test, y_pred)\n",
        "\n",
        "print(f\"Accuracy: {accuracy}\")"
      ]
    },
    {
      "cell_type": "markdown",
      "metadata": {
        "id": "disup62iFPz7"
      },
      "source": [
        "# MODEL ANALYSIS"
      ]
    },
    {
      "cell_type": "code",
      "execution_count": null,
      "metadata": {
        "colab": {
          "base_uri": "https://localhost:8080/",
          "height": 564
        },
        "id": "P2jbalTULixm",
        "outputId": "1ade5e7b-cd47-4d00-932e-6c6d88636d2b"
      },
      "outputs": [
        {
          "data": {
            "image/png": "[encoded data removed]",
            "text/plain": [
              "<Figure size 800x600 with 2 Axes>"
            ]
          },
          "metadata": {},
          "output_type": "display_data"
        }
      ],
      "source": [
        "from sklearn.metrics import confusion_matrix\n",
        "import seaborn as sns\n",
        "import matplotlib.pyplot as plt\n",
        "\n",
        "# Calculate the confusion matrix\n",
        "conf_matrix = confusion_matrix(y_test, y_pred)\n",
        "\n",
        "# Display the confusion matrix\n",
        "plt.figure(figsize=(8, 6))\n",
        "sns.heatmap(conf_matrix, annot=True, fmt='d', cmap='Blues', xticklabels=[0, 1, 2, 3, 4], yticklabels=[0, 1, 2, 3, 4])\n",
        "plt.xlabel('Predicted Labels')\n",
        "plt.ylabel('True Labels')\n",
        "plt.title('Confusion Matrix')\n",
        "plt.show()"
      ]
    },
    {
      "cell_type": "code",
      "execution_count": null,
      "metadata": {
        "colab": {
          "base_uri": "https://localhost:8080/"
        },
        "id": "zV7mKpjvMBvi",
        "outputId": "aa0de376-b590-40fb-dda1-7b4753ff9e0a"
      },
      "outputs": [
        {
          "name": "stdout",
          "output_type": "stream",
          "text": [
            "Sample 1: True Label = 0, Predicted Label = 4\n",
            "Sample 5: True Label = 1, Predicted Label = 3\n",
            "Sample 6: True Label = 1, Predicted Label = 3\n",
            "Sample 7: True Label = 1, Predicted Label = 2\n"
          ]
        }
      ],
      "source": [
        "# Find indices of misclassified samples\n",
        "y_test = y_test.values.ravel()\n",
        "misclassified_indices = np.where(y_test != y_pred)[0]\n",
        "\n",
        "# Display information for four misclassified samples\n",
        "for i in range(min(4, len(misclassified_indices))):\n",
        "    index = misclassified_indices[i]\n",
        "    true_label = y_test[index]\n",
        "    predicted_label = y_pred[index]\n",
        "\n",
        "    print(f\"Sample {index}: True Label = {true_label}, Predicted Label = {predicted_label}\")\n"
      ]
    },
    {
      "cell_type": "markdown",
      "metadata": {
        "id": "ww_klZsKN0Rt"
      },
      "source": [
        "The model seems to be confusing 0=Ambient Music with 4=Classical Symphonic and 1=Country Music with 2=Heavy Metal and 3=Rock 'n Roll. Personally, I would say that Classical Symphonic and Ambient Music are more alike because they focus on harmony, while Country Music, Heavy Metal, and Rock 'n Roll are more passionate and focus on beats."
      ]
    },
    {
      "cell_type": "markdown",
      "metadata": {
        "id": "OetW_li7X9eb"
      },
      "source": [
        "# FINAL MODEL TRAINING AND PREDICTION"
      ]
    },
    {
      "cell_type": "code",
      "execution_count": 30,
      "metadata": {
        "colab": {
          "base_uri": "https://localhost:8080/"
        },
        "id": "VNZesozwhgxa",
        "outputId": "5c755ed3-1752-4510-9f35-d2b54852a870"
      },
      "outputs": [
        {
          "name": "stdout",
          "output_type": "stream",
          "text": [
            "[3 4 2 0 0 4 1 1 4 0 4 3 3 2 1 2 2 1 1 4 1 4 1 2 4 3 0 3 0 4 1 1 1 0 1 4 4\n",
            " 4 0 0]\n"
          ]
        }
      ],
      "source": [
        "# Create a pipeline with a scaler, PCA, and an SVM classifier\n",
        "pipeline = Pipeline([\n",
        "    ('scaler', StandardScaler()),\n",
        "    ('pca', PCA(n_components=50)),\n",
        "    ('svm', SVC(C=0.01, kernel='linear', decision_function_shape='ovo'))\n",
        "])\n",
        "\n",
        "# Fit the pipeline on the entire training data\n",
        "pipeline.fit(train_data, train_labels.values.ravel())\n",
        "\n",
        "# Make predictions on the test data\n",
        "y_pred = pipeline.predict(test_data)\n",
        "print(y_pred)"
      ]
    },
    {
      "cell_type": "code",
      "execution_count": 28,
      "metadata": {
        "colab": {
          "base_uri": "https://localhost:8080/",
          "height": 224
        },
        "id": "pmltZJ5BQYXZ",
        "outputId": "cb00984d-7d2f-484e-8a0d-8cf6f42695b2"
      },
      "outputs": [
        {
          "name": "stdout",
          "output_type": "stream",
          "text": [
            "(40, 2)\n"
          ]
        },
        {
          "data": {
            "text/html": [
              "<div>\n",
              "<style scoped>\n",
              "    .dataframe tbody tr th:only-of-type {\n",
              "        vertical-align: middle;\n",
              "    }\n",
              "\n",
              "    .dataframe tbody tr th {\n",
              "        vertical-align: top;\n",
              "    }\n",
              "\n",
              "    .dataframe thead th {\n",
              "        text-align: right;\n",
              "    }\n",
              "</style>\n",
              "<table border=\"1\" class=\"dataframe\">\n",
              "  <thead>\n",
              "    <tr style=\"text-align: right;\">\n",
              "      <th></th>\n",
              "      <th>id</th>\n",
              "      <th>predicted</th>\n",
              "    </tr>\n",
              "  </thead>\n",
              "  <tbody>\n",
              "    <tr>\n",
              "      <th>0</th>\n",
              "      <td>0</td>\n",
              "      <td>3</td>\n",
              "    </tr>\n",
              "    <tr>\n",
              "      <th>1</th>\n",
              "      <td>1</td>\n",
              "      <td>4</td>\n",
              "    </tr>\n",
              "    <tr>\n",
              "      <th>2</th>\n",
              "      <td>2</td>\n",
              "      <td>2</td>\n",
              "    </tr>\n",
              "    <tr>\n",
              "      <th>3</th>\n",
              "      <td>3</td>\n",
              "      <td>0</td>\n",
              "    </tr>\n",
              "    <tr>\n",
              "      <th>4</th>\n",
              "      <td>4</td>\n",
              "      <td>0</td>\n",
              "    </tr>\n",
              "  </tbody>\n",
              "</table>\n",
              "</div>"
            ],
            "text/plain": [
              "   id  predicted\n",
              "0   0          3\n",
              "1   1          4\n",
              "2   2          2\n",
              "3   3          0\n",
              "4   4          0"
            ]
          },
          "execution_count": 28,
          "metadata": {},
          "output_type": "execute_result"
        }
      ],
      "source": [
        "# IMPORTANT: use 'id' and 'predicted' as the column names\n",
        "test_submission = pd.DataFrame({\n",
        "    'id':list(range(len(y_pred))),\n",
        "    'predicted':list(y_pred.astype('int32'))})\n",
        "print(test_submission.shape)\n",
        "test_submission.head()"
      ]
    },
    {
      "cell_type": "code",
      "execution_count": 29,
      "metadata": {
        "id": "gn8rEKIaRBAM"
      },
      "outputs": [],
      "source": [
        "# submit the CSV file to the corresponding Kaggle competition.\n",
        "test_submission.to_csv('SH1_0304_50_0.01.csv', index=False)"
      ]
    },
    {
      "cell_type": "markdown",
      "metadata": {
        "id": "T4VOaYbyQVg_"
      },
      "source": [
        "Kaggle result: accuracy = 0.8"
      ]
    }
  ],
  "metadata": {
    "colab": {
      "machine_shape": "hm",
      "provenance": []
    },
    "kernelspec": {
      "display_name": "Python 3.11.5 64-bit",
      "language": "python",
      "name": "python3"
    },
    "language_info": {
      "codemirror_mode": {
        "name": "ipython",
        "version": 3
      },
      "file_extension": ".py",
      "mimetype": "text/x-python",
      "name": "python",
      "nbconvert_exporter": "python",
      "pygments_lexer": "ipython3",
      "version": "3.11.5"
    },
    "vscode": {
      "interpreter": {
        "hash": "b0fa6594d8f4cbf19f97940f81e996739fb7646882a419484c72d19e05852a7e"
      }
    }
  },
  "nbformat": 4,
  "nbformat_minor": 0
}
